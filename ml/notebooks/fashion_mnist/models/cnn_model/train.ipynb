{
 "cells": [
  {
   "attachments": {},
   "cell_type": "markdown",
   "metadata": {},
   "source": [
    "Make and train the model"
   ]
  },
  {
   "cell_type": "code",
   "execution_count": 8,
   "metadata": {},
   "outputs": [],
   "source": [
    "import tensorflow as tf\n",
    "import numpy as np\n",
    "import matplotlib.pyplot as plt"
   ]
  },
  {
   "attachments": {},
   "cell_type": "markdown",
   "metadata": {},
   "source": [
    "Load the data\n"
   ]
  },
  {
   "cell_type": "code",
   "execution_count": 11,
   "metadata": {},
   "outputs": [],
   "source": [
    "#Train data\n",
    "npz = np.load('../../data/preprocessed/data_train.npz')\n",
    "train_inputs, train_targets = npz['inputs'].astype(np.float64), npz['targets'].astype(np.int64)\n",
    "\n",
    "#Validation data\n",
    "npz = np.load('../../data/preprocessed/data_validation.npz')\n",
    "validation_inputs, validation_targets = npz['inputs'].astype(np.float64), npz['targets'].astype(np.int64)\n",
    "\n",
    "#Test data\n",
    "npz = np.load('../../data/preprocessed/data_test.npz')\n",
    "test_inputs, test_targets = npz['inputs'].astype(np.float64), npz['targets'].astype(np.int64)"
   ]
  },
  {
   "attachments": {},
   "cell_type": "markdown",
   "metadata": {},
   "source": [
    "Make the model"
   ]
  },
  {
   "cell_type": "code",
   "execution_count": 4,
   "metadata": {},
   "outputs": [],
   "source": [
    "#Define the model\n",
    "model = tf.keras.models.Sequential([\n",
    "   tf.keras.layers.Conv2D(32, (3,3), activation='relu', input_shape=(28, 28, 1)), #Convolutional layer\n",
    "    tf.keras.layers.MaxPooling2D(2,2), #Maximum pooling layer with 32 filter\n",
    "    tf.keras.layers.Conv2D(64, (3,3), activation='relu', input_shape=(28, 28, 1)), #Convolutional layer\n",
    "    tf.keras.layers.MaxPooling2D(2,2), #Maximum pooling layer with 64 filter\n",
    "    tf.keras.layers.Conv2D(128, (3,3), activation='relu', input_shape=(28, 28, 1)), #Convolutional layer\n",
    "    tf.keras.layers.MaxPooling2D(2,2), #Maximum pooling layer with 128 filter\n",
    "    \n",
    "    tf.keras.layers.Flatten(),\n",
    "    tf.keras.layers.Dense(50, activation='relu'), #Convolutional layer\n",
    "    tf.keras.layers.Dense(10, activation='softmax'),\n",
    "])\n",
    "\n",
    "#Compile the model\n",
    "model.compile(optimizer='adam', loss='sparse_categorical_crossentropy', metrics=['accuracy'])"
   ]
  },
  {
   "attachments": {},
   "cell_type": "markdown",
   "metadata": {},
   "source": [
    "Train the model"
   ]
  },
  {
   "cell_type": "code",
   "execution_count": 10,
   "metadata": {},
   "outputs": [
    {
     "name": "stdout",
     "output_type": "stream",
     "text": [
      "Epoch 1/10\n",
      "1593/1593 - 31s - loss: 0.0678 - accuracy: 0.9739 - val_loss: 0.5075 - val_accuracy: 0.8970 - 31s/epoch - 19ms/step\n",
      "Epoch 2/10\n",
      "1593/1593 - 29s - loss: 0.0627 - accuracy: 0.9765 - val_loss: 0.5269 - val_accuracy: 0.8946 - 29s/epoch - 18ms/step\n",
      "Epoch 3/10\n",
      "1593/1593 - 32s - loss: 0.0592 - accuracy: 0.9780 - val_loss: 0.5158 - val_accuracy: 0.8954 - 32s/epoch - 20ms/step\n",
      "Epoch 4/10\n",
      "1593/1593 - 31s - loss: 0.0605 - accuracy: 0.9773 - val_loss: 0.5151 - val_accuracy: 0.8916 - 31s/epoch - 19ms/step\n",
      "Epoch 5/10\n",
      "1593/1593 - 32s - loss: 0.0554 - accuracy: 0.9798 - val_loss: 0.5708 - val_accuracy: 0.8880 - 32s/epoch - 20ms/step\n",
      "Epoch 6/10\n",
      "1593/1593 - 27s - loss: 0.0551 - accuracy: 0.9797 - val_loss: 0.5957 - val_accuracy: 0.8916 - 27s/epoch - 17ms/step\n"
     ]
    }
   ],
   "source": [
    "BATCH_SIZE = 32 \n",
    "MAX_EPOCHS = 50\n",
    "\n",
    "early_stopping = tf.keras.callbacks.EarlyStopping(patience=5)\n",
    "record = model.fit(\n",
    "    train_inputs,\n",
    "    train_targets,\n",
    "    batch_size=BATCH_SIZE,\n",
    "    epochs=MAX_EPOCHS,\n",
    "    validation_data=(validation_inputs, validation_targets),\n",
    "    steps_per_epoch=int(np.ceil(len(train_inputs)) / float(32)),\n",
    "    validation_steps=int(np.ceil(len(validation_inputs)) / float(32)),\n",
    "    callbacks=[early_stopping],\n",
    "    verbose=2\n",
    "    )"
   ]
  },
  {
   "attachments": {},
   "cell_type": "markdown",
   "metadata": {},
   "source": [
    "Explore the train"
   ]
  },
  {
   "cell_type": "code",
   "execution_count": 12,
   "metadata": {},
   "outputs": [
    {
     "data": {
      "image/png": "[encoded data removed]",
      "text/plain": [
       "<Figure size 640x480 with 1 Axes>"
      ]
     },
     "metadata": {},
     "output_type": "display_data"
    }
   ],
   "source": [
    "#Show the loss between epochs \n",
    "plt.plot(record.history['loss'])\n",
    "plt.xlabel('# Epoch')\n",
    "plt.ylabel('Loss')\n",
    "plt.show()"
   ]
  },
  {
   "attachments": {},
   "cell_type": "markdown",
   "metadata": {},
   "source": [
    "Evaluate model"
   ]
  },
  {
   "cell_type": "code",
   "execution_count": 13,
   "metadata": {},
   "outputs": [
    {
     "name": "stdout",
     "output_type": "stream",
     "text": [
      "313/313 [==============================] - 2s 5ms/step - loss: 0.6652 - accuracy: 0.8865\n"
     ]
    },
    {
     "data": {
      "text/plain": [
       "[0.6652379631996155, 0.8865000009536743]"
      ]
     },
     "execution_count": 13,
     "metadata": {},
     "output_type": "execute_result"
    }
   ],
   "source": [
    "model.evaluate(test_inputs, test_targets)"
   ]
  },
  {
   "attachments": {},
   "cell_type": "markdown",
   "metadata": {},
   "source": [
    "Save the model"
   ]
  },
  {
   "cell_type": "code",
   "execution_count": 14,
   "metadata": {},
   "outputs": [],
   "source": [
    "model.save('./trained_model/fashion_mnist_cnn_model.h5')"
   ]
  }
 ],
 "metadata": {
  "kernelspec": {
   "display_name": "base",
   "language": "python",
   "name": "python3"
  },
  "language_info": {
   "codemirror_mode": {
    "name": "ipython",
    "version": 3
   },
   "file_extension": ".py",
   "mimetype": "text/x-python",
   "name": "python",
   "nbconvert_exporter": "python",
   "pygments_lexer": "ipython3",
   "version": "3.10.9"
  },
  "orig_nbformat": 4
 },
 "nbformat": 4,
 "nbformat_minor": 2
}
