{
 "cells": [
  {
   "attachments": {},
   "cell_type": "markdown",
   "metadata": {},
   "source": [
    "Make and train the model"
   ]
  },
  {
   "cell_type": "code",
   "execution_count": 1,
   "metadata": {},
   "outputs": [
    {
     "name": "stderr",
     "output_type": "stream",
     "text": [
      "2023-05-20 16:31:58.230994: I tensorflow/core/platform/cpu_feature_guard.cc:182] This TensorFlow binary is optimized to use available CPU instructions in performance-critical operations.\n",
      "To enable the following instructions: AVX2 FMA, in other operations, rebuild TensorFlow with the appropriate compiler flags.\n"
     ]
    }
   ],
   "source": [
    "import tensorflow as tf\n",
    "import numpy as np\n",
    "import matplotlib.pyplot as plt"
   ]
  },
  {
   "attachments": {},
   "cell_type": "markdown",
   "metadata": {},
   "source": [
    "Load the data\n"
   ]
  },
  {
   "cell_type": "code",
   "execution_count": 2,
   "metadata": {},
   "outputs": [],
   "source": [
    "#Train data\n",
    "npz = np.load('../../data/preprocessed/data_train.npz')\n",
    "train_inputs, train_targets = npz['inputs'].astype(np.float64), npz['targets'].astype(np.int64)\n",
    "\n",
    "#Validation data\n",
    "npz = np.load('../../data/preprocessed/data_validation.npz')\n",
    "validation_inputs, validation_targets = npz['inputs'].astype(np.float64), npz['targets'].astype(np.int64)\n",
    "\n",
    "#Test data\n",
    "npz = np.load('../../data/preprocessed/data_test.npz')\n",
    "test_inputs, test_targets = npz['inputs'].astype(np.float64), npz['targets'].astype(np.int64)"
   ]
  },
  {
   "attachments": {},
   "cell_type": "markdown",
   "metadata": {},
   "source": [
    "Make the model"
   ]
  },
  {
   "cell_type": "code",
   "execution_count": 4,
   "metadata": {},
   "outputs": [],
   "source": [
    "#Define the model\n",
    "model = tf.keras.models.Sequential([\n",
    "   tf.keras.layers.Conv2D(32, (3,3), activation='relu', input_shape=(28, 28, 1)), #Convolutional layer\n",
    "    tf.keras.layers.MaxPooling2D(2,2), #Maximum pooling layer with 32 filter\n",
    "    tf.keras.layers.Conv2D(64, (3,3), activation='relu', input_shape=(28, 28, 1)), #Convolutional layer\n",
    "    tf.keras.layers.MaxPooling2D(2,2), #Maximum pooling layer with 64 filter\n",
    "    tf.keras.layers.Conv2D(128, (3,3), activation='relu', input_shape=(28, 28, 1)), #Convolutional layer\n",
    "    tf.keras.layers.MaxPooling2D(2,2), #Maximum pooling layer with 128 filter\n",
    "    \n",
    "    tf.keras.layers.Flatten(),\n",
    "    tf.keras.layers.Dense(20, activation='relu'), #Convolutional layer\n",
    "    tf.keras.layers.Dense(10, activation='softmax'),\n",
    "])\n",
    "\n",
    "#Compile the model\n",
    "model.compile(optimizer='adam', loss='sparse_categorical_crossentropy', metrics=['accuracy'])"
   ]
  },
  {
   "attachments": {},
   "cell_type": "markdown",
   "metadata": {},
   "source": [
    "Train the model"
   ]
  },
  {
   "cell_type": "code",
   "execution_count": 5,
   "metadata": {},
   "outputs": [
    {
     "name": "stdout",
     "output_type": "stream",
     "text": [
      "Epoch 1/50\n",
      "1593/1593 - 27s - loss: 0.2611 - accuracy: 0.9176 - val_loss: 0.1513 - val_accuracy: 0.9524 - 27s/epoch - 17ms/step\n",
      "Epoch 2/50\n",
      "1593/1593 - 25s - loss: 0.0828 - accuracy: 0.9741 - val_loss: 0.0788 - val_accuracy: 0.9773 - 25s/epoch - 16ms/step\n",
      "Epoch 3/50\n",
      "1593/1593 - 25s - loss: 0.0585 - accuracy: 0.9818 - val_loss: 0.0591 - val_accuracy: 0.9820 - 25s/epoch - 16ms/step\n",
      "Epoch 4/50\n",
      "1593/1593 - 26s - loss: 0.0462 - accuracy: 0.9858 - val_loss: 0.0496 - val_accuracy: 0.9839 - 26s/epoch - 16ms/step\n",
      "Epoch 5/50\n",
      "1593/1593 - 26s - loss: 0.0347 - accuracy: 0.9892 - val_loss: 0.0604 - val_accuracy: 0.9831 - 26s/epoch - 17ms/step\n",
      "Epoch 6/50\n",
      "1593/1593 - 25s - loss: 0.0279 - accuracy: 0.9914 - val_loss: 0.0512 - val_accuracy: 0.9862 - 25s/epoch - 16ms/step\n",
      "Epoch 7/50\n",
      "1593/1593 - 28s - loss: 0.0243 - accuracy: 0.9923 - val_loss: 0.0626 - val_accuracy: 0.9828 - 28s/epoch - 17ms/step\n",
      "Epoch 8/50\n",
      "1593/1593 - 25s - loss: 0.0191 - accuracy: 0.9937 - val_loss: 0.0501 - val_accuracy: 0.9873 - 25s/epoch - 16ms/step\n",
      "Epoch 9/50\n",
      "1593/1593 - 25s - loss: 0.0169 - accuracy: 0.9946 - val_loss: 0.0548 - val_accuracy: 0.9870 - 25s/epoch - 16ms/step\n"
     ]
    }
   ],
   "source": [
    "BATCH_SIZE = 32 \n",
    "MAX_EPOCHS = 10\n",
    "\n",
    "early_stopping = tf.keras.callbacks.EarlyStopping(patience=2)\n",
    "record = model.fit(\n",
    "    train_inputs,\n",
    "    train_targets,\n",
    "    batch_size=BATCH_SIZE,\n",
    "    epochs=MAX_EPOCHS,\n",
    "    validation_data=(validation_inputs, validation_targets),\n",
    "    steps_per_epoch=int(np.ceil(len(train_inputs)) / float(32)),\n",
    "    validation_steps=int(np.ceil(len(validation_inputs)) / float(32)),\n",
    "    callbacks=[early_stopping],\n",
    "    verbose=2\n",
    "    )"
   ]
  },
  {
   "attachments": {},
   "cell_type": "markdown",
   "metadata": {},
   "source": [
    "Explore the train"
   ]
  },
  {
   "cell_type": "code",
   "execution_count": 6,
   "metadata": {},
   "outputs": [
    {
     "data": {
      "image/png": "[encoded data removed]",
      "text/plain": [
       "<Figure size 640x480 with 1 Axes>"
      ]
     },
     "metadata": {},
     "output_type": "display_data"
    }
   ],
   "source": [
    "#Show the loss between epochs \n",
    "plt.plot(record.history['loss'])\n",
    "plt.xlabel('# Epoch')\n",
    "plt.ylabel('Loss')\n",
    "plt.show()"
   ]
  },
  {
   "attachments": {},
   "cell_type": "markdown",
   "metadata": {},
   "source": [
    "Evaluate model"
   ]
  },
  {
   "cell_type": "code",
   "execution_count": 7,
   "metadata": {},
   "outputs": [
    {
     "name": "stdout",
     "output_type": "stream",
     "text": [
      "313/313 [==============================] - 2s 5ms/step - loss: 0.0589 - accuracy: 0.9855\n"
     ]
    },
    {
     "data": {
      "text/plain": [
       "[0.05894671007990837, 0.9854999780654907]"
      ]
     },
     "execution_count": 7,
     "metadata": {},
     "output_type": "execute_result"
    }
   ],
   "source": [
    "model.evaluate(test_inputs, test_targets)"
   ]
  },
  {
   "attachments": {},
   "cell_type": "markdown",
   "metadata": {},
   "source": [
    "Save the model"
   ]
  },
  {
   "cell_type": "code",
   "execution_count": 8,
   "metadata": {},
   "outputs": [],
   "source": [
    "model.save('./trained_model/mnist_cnn_model.h5')"
   ]
  }
 ],
 "metadata": {
  "kernelspec": {
   "display_name": "base",
   "language": "python",
   "name": "python3"
  },
  "language_info": {
   "codemirror_mode": {
    "name": "ipython",
    "version": 3
   },
   "file_extension": ".py",
   "mimetype": "text/x-python",
   "name": "python",
   "nbconvert_exporter": "python",
   "pygments_lexer": "ipython3",
   "version": "3.10.9"
  },
  "orig_nbformat": 4
 },
 "nbformat": 4,
 "nbformat_minor": 2
}
