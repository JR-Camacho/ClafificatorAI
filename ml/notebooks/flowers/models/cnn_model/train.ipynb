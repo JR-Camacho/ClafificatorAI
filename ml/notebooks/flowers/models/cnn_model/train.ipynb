{
 "cells": [
  {
   "attachments": {},
   "cell_type": "markdown",
   "metadata": {},
   "source": [
    "Make and train the model"
   ]
  },
  {
   "cell_type": "code",
   "execution_count": 1,
   "metadata": {},
   "outputs": [
    {
     "name": "stderr",
     "output_type": "stream",
     "text": [
      "2023-05-20 17:27:20.255380: I tensorflow/core/platform/cpu_feature_guard.cc:182] This TensorFlow binary is optimized to use available CPU instructions in performance-critical operations.\n",
      "To enable the following instructions: AVX2 FMA, in other operations, rebuild TensorFlow with the appropriate compiler flags.\n"
     ]
    }
   ],
   "source": [
    "import tensorflow as tf\n",
    "import numpy as np\n",
    "import matplotlib.pyplot as plt"
   ]
  },
  {
   "attachments": {},
   "cell_type": "markdown",
   "metadata": {},
   "source": [
    "Load the data\n"
   ]
  },
  {
   "cell_type": "code",
   "execution_count": 2,
   "metadata": {},
   "outputs": [],
   "source": [
    "#Train data\n",
    "npz = np.load('../../data/preprocessed/data_train.npz')\n",
    "train_inputs, train_targets = npz['inputs'].astype(np.float64), npz['targets'].astype(np.int64)\n",
    "\n",
    "#Validation data\n",
    "npz = np.load('../../data/preprocessed/data_validation.npz')\n",
    "validation_inputs, validation_targets = npz['inputs'].astype(np.float64), npz['targets'].astype(np.int64)"
   ]
  },
  {
   "attachments": {},
   "cell_type": "markdown",
   "metadata": {},
   "source": [
    "Make the model"
   ]
  },
  {
   "cell_type": "code",
   "execution_count": 5,
   "metadata": {},
   "outputs": [],
   "source": [
    "#Define the model\n",
    "model = tf.keras.models.Sequential([\n",
    "   tf.keras.layers.Conv2D(32, (3,3), activation='relu', input_shape=(100, 100, 3)), #Convolutional layer\n",
    "    tf.keras.layers.MaxPooling2D(2,2), #Maximum pooling layer with 32 filter\n",
    "    tf.keras.layers.Conv2D(64, (3,3), activation='relu', input_shape=(100, 100, 3)), #Convolutional layer\n",
    "    tf.keras.layers.MaxPooling2D(2,2), #Maximum pooling layer with 64 filter\n",
    "    tf.keras.layers.Conv2D(128, (3,3), activation='relu', input_shape=(100, 100, 3)), #Convolutional layer\n",
    "    tf.keras.layers.MaxPooling2D(2,2), #Maximum pooling layer with 128 filter\n",
    "    \n",
    "    tf.keras.layers.Dropout(0.5),\n",
    "    tf.keras.layers.Flatten(),\n",
    "    tf.keras.layers.Dense(150, activation='relu'), #Convolutional layer\n",
    "    tf.keras.layers.Dense(5, activation='softmax'),\n",
    "])\n",
    "\n",
    "#Compile the model\n",
    "model.compile(optimizer='adam', loss='sparse_categorical_crossentropy', metrics=['accuracy'])"
   ]
  },
  {
   "attachments": {},
   "cell_type": "markdown",
   "metadata": {},
   "source": [
    "Train the model"
   ]
  },
  {
   "cell_type": "code",
   "execution_count": 6,
   "metadata": {},
   "outputs": [
    {
     "name": "stdout",
     "output_type": "stream",
     "text": [
      "Epoch 1/50\n",
      "97/97 - 27s - loss: 1.2987 - accuracy: 0.4333 - val_loss: 1.0839 - val_accuracy: 0.5478 - 27s/epoch - 282ms/step\n",
      "Epoch 2/50\n",
      "97/97 - 27s - loss: 1.0499 - accuracy: 0.5854 - val_loss: 0.8933 - val_accuracy: 0.6636 - 27s/epoch - 273ms/step\n",
      "Epoch 3/50\n",
      "97/97 - 28s - loss: 0.8872 - accuracy: 0.6537 - val_loss: 0.8269 - val_accuracy: 0.6949 - 28s/epoch - 284ms/step\n",
      "Epoch 4/50\n",
      "97/97 - 32s - loss: 0.7906 - accuracy: 0.6877 - val_loss: 0.7588 - val_accuracy: 0.7022 - 32s/epoch - 326ms/step\n",
      "Epoch 5/50\n",
      "97/97 - 29s - loss: 0.6754 - accuracy: 0.7418 - val_loss: 0.7507 - val_accuracy: 0.7353 - 29s/epoch - 301ms/step\n",
      "Epoch 6/50\n",
      "97/97 - 27s - loss: 0.5789 - accuracy: 0.7813 - val_loss: 0.7244 - val_accuracy: 0.7518 - 27s/epoch - 277ms/step\n",
      "Epoch 7/50\n",
      "97/97 - 27s - loss: 0.4829 - accuracy: 0.8179 - val_loss: 0.7657 - val_accuracy: 0.7188 - 27s/epoch - 275ms/step\n",
      "Epoch 8/50\n",
      "97/97 - 27s - loss: 0.3992 - accuracy: 0.8571 - val_loss: 0.7427 - val_accuracy: 0.7537 - 27s/epoch - 277ms/step\n",
      "Epoch 9/50\n",
      "97/97 - 27s - loss: 0.3066 - accuracy: 0.8821 - val_loss: 0.8888 - val_accuracy: 0.7353 - 27s/epoch - 277ms/step\n",
      "Epoch 10/50\n",
      "97/97 - 26s - loss: 0.2518 - accuracy: 0.9109 - val_loss: 0.8732 - val_accuracy: 0.7390 - 26s/epoch - 272ms/step\n",
      "Epoch 11/50\n",
      "97/97 - 28s - loss: 0.2136 - accuracy: 0.9206 - val_loss: 0.8914 - val_accuracy: 0.7390 - 28s/epoch - 290ms/step\n"
     ]
    }
   ],
   "source": [
    "BATCH_SIZE = 32 \n",
    "MAX_EPOCHS = 50\n",
    "\n",
    "early_stopping = tf.keras.callbacks.EarlyStopping(patience=5)\n",
    "record = model.fit(\n",
    "    train_inputs,\n",
    "    train_targets,\n",
    "    batch_size=BATCH_SIZE,\n",
    "    epochs=MAX_EPOCHS,\n",
    "    validation_data=(validation_inputs, validation_targets),\n",
    "    steps_per_epoch=int(np.ceil(len(train_inputs)) / float(32)),\n",
    "    validation_steps=int(np.ceil(len(validation_inputs)) / float(32)),\n",
    "    callbacks=[early_stopping],\n",
    "    verbose=2\n",
    "    )"
   ]
  },
  {
   "attachments": {},
   "cell_type": "markdown",
   "metadata": {},
   "source": [
    "Explore the train"
   ]
  },
  {
   "cell_type": "code",
   "execution_count": 7,
   "metadata": {},
   "outputs": [
    {
     "data": {
      "image/png": "[encoded data removed]",
      "text/plain": [
       "<Figure size 640x480 with 1 Axes>"
      ]
     },
     "metadata": {},
     "output_type": "display_data"
    }
   ],
   "source": [
    "#Show the loss between epochs \n",
    "plt.plot(record.history['loss'])\n",
    "plt.xlabel('# Epoch')\n",
    "plt.ylabel('Loss')\n",
    "plt.show()"
   ]
  },
  {
   "attachments": {},
   "cell_type": "markdown",
   "metadata": {},
   "source": [
    "Save the model"
   ]
  },
  {
   "cell_type": "code",
   "execution_count": 8,
   "metadata": {},
   "outputs": [],
   "source": [
    "model.save('./trained_model/flowers_cnn_model.h5')"
   ]
  }
 ],
 "metadata": {
  "kernelspec": {
   "display_name": "base",
   "language": "python",
   "name": "python3"
  },
  "language_info": {
   "codemirror_mode": {
    "name": "ipython",
    "version": 3
   },
   "file_extension": ".py",
   "mimetype": "text/x-python",
   "name": "python",
   "nbconvert_exporter": "python",
   "pygments_lexer": "ipython3",
   "version": "3.10.9"
  },
  "orig_nbformat": 4
 },
 "nbformat": 4,
 "nbformat_minor": 2
}
